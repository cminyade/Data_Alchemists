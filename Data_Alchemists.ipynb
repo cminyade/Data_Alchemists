{
 "cells": [
  {
   "cell_type": "markdown",
   "id": "e62aff2c",
   "metadata": {},
   "source": [
    "# Project: Automating Classification of Audio-Visual Content and Rating for Regulation and Personal Use\n",
    "\n",
    "# 1. Business understanding\n",
    "\n",
    "The government regulator of audiovisual content is mandated to regulate audiovisual content in Kenya for age appropriateness, i.e. GE, PG,16,18, and Restricted, based on the film classification guidelines for 2012. The Classification guidelines have established a scale rating of 0-5 based on the frequency and intensity of all the classifiable elements. The rating includes \n",
    "0 – 1: Low impact classifiable elements – General Exhibition (GE),2: Mild impact classifiable elements – Parental Guidance (PG), 3: Moderate impact classifiable elements – 16,4: Strong impact classifiable elements -18 and 5: Extreme impact classifiable elements – Restricted. \n",
    "\n",
    "##  Business Problem Statement\n",
    "However, with the rapid growth of film and digital media production, especially on TikTok and YouTube, manual review and classification of thousands of entries, each with unique genres, synopses, and sources, is time-consuming, resource-intensive, and prone to inconsistencies.\n",
    "\n",
    "This project aims to assist the regulator in classifying the audiovisual content by building a machine learning model that can predict a film’s classification rating (e.g., GE, PG, 16, 18 and Restricted) based on its genre, synopsis, class of film, duration, country of origin, platform, and other available data. The automation will support improving on regulatory efficiency by providing rating suggestions to film examiners, enhance parental control tools that will help parents flag potentially inappropriate audiovisual content for children, build a recommendation system of filtering audiovisual content based on age-appropriateness profile and interests and finally support local content categorisation and promote films produced in the Country.\n",
    "\n",
    "\n",
    "##  Domain of Application\n",
    "This project sits at the intersection of several domains, including media and entertainment, where it supports content management and accessibility; government and regulatory compliance, aiding institutions in efficiently classifying film content; natural language processing and machine learning, particularly in the area of text classification; and educational technology, where it contributes to developing systems for age-appropriate content filtering and parental control.\n",
    "\n",
    "##  Target Audience\n",
    "The primary stakeholders for this solution include film classification authorities, such as the Kenya Film Classification Board (KFCB), who can benefit from automated tools for rating assignment. It also serves streaming service providers like Netflix or Maisha Magic, helping streamline internal content tagging. Additionally, it’s relevant to parents and educators who require safeguards for children's viewing content, and developers working on recommendation systems, who need structured metadata to personalize content delivery.\n",
    "\n",
    "\n",
    "\n",
    "# 2. Data understanding\n",
    " The project utilizes film classification data sourced from the Kenya Film Classification Board (KFCB), covering the years 2022 to 2025. The dataset includes a range of attributes such as film title, genre, synopsis, official rating, platform of release, duration, classification date, and country of origin.\n",
    "\n",
    "# 3. Data Preparation\n",
    "Our goal is to collect data on audiovisual content classification over the last three (3) years and handle the missing values, feature engineering by converting the date classified into year, month and day of the week, extract text features from the synopsis by applying either TF-IDF "
   ]
  },
  {
   "cell_type": "markdown",
   "id": "0663b77d",
   "metadata": {},
   "source": [
    "### Importing Essential Libraries\n",
    "\n",
    "We will start by importing all libraries used throughout the notebook."
   ]
  },
  {
   "cell_type": "code",
   "execution_count": 26,
   "id": "fb266e46",
   "metadata": {},
   "outputs": [],
   "source": [
    "import pandas as pd\n",
    "import numpy as np\n",
    "import seaborn as sns\n",
    "import matplotlib.pyplot as plt\n"
   ]
  },
  {
   "cell_type": "markdown",
   "id": "61346164",
   "metadata": {},
   "source": [
    "### Loading the dataset"
   ]
  },
  {
   "cell_type": "code",
   "execution_count": 27,
   "id": "2fff7591",
   "metadata": {},
   "outputs": [
    {
     "data": {
      "text/html": [
       "<div>\n",
       "<style scoped>\n",
       "    .dataframe tbody tr th:only-of-type {\n",
       "        vertical-align: middle;\n",
       "    }\n",
       "\n",
       "    .dataframe tbody tr th {\n",
       "        vertical-align: top;\n",
       "    }\n",
       "\n",
       "    .dataframe thead th {\n",
       "        text-align: right;\n",
       "    }\n",
       "</style>\n",
       "<table border=\"1\" class=\"dataframe\">\n",
       "  <thead>\n",
       "    <tr style=\"text-align: right;\">\n",
       "      <th></th>\n",
       "      <th>FILM TITLE</th>\n",
       "      <th>CLASS OF FILM</th>\n",
       "      <th>GENRE</th>\n",
       "      <th>SYNOPSIS</th>\n",
       "      <th>RATING</th>\n",
       "      <th>CAI</th>\n",
       "      <th>JUSTIFICATION</th>\n",
       "      <th>DURATION(MINS)</th>\n",
       "      <th>DATE CLASSIFIED</th>\n",
       "      <th>COUNTRY OF ORIGIN</th>\n",
       "      <th>VENUE</th>\n",
       "      <th>CLIENT</th>\n",
       "      <th>CONTACT</th>\n",
       "      <th>PLATFORM</th>\n",
       "      <th>WEBSITE</th>\n",
       "    </tr>\n",
       "    <tr>\n",
       "      <th>NO</th>\n",
       "      <th></th>\n",
       "      <th></th>\n",
       "      <th></th>\n",
       "      <th></th>\n",
       "      <th></th>\n",
       "      <th></th>\n",
       "      <th></th>\n",
       "      <th></th>\n",
       "      <th></th>\n",
       "      <th></th>\n",
       "      <th></th>\n",
       "      <th></th>\n",
       "      <th></th>\n",
       "      <th></th>\n",
       "      <th></th>\n",
       "    </tr>\n",
       "  </thead>\n",
       "  <tbody>\n",
       "    <tr>\n",
       "      <th>1</th>\n",
       "      <td>Rashtra Kavach OM</td>\n",
       "      <td>NaN</td>\n",
       "      <td>Action</td>\n",
       "      <td>Rashtra Karachi OM is an action Indian film de...</td>\n",
       "      <td>16</td>\n",
       "      <td>V,A,S</td>\n",
       "      <td>Pain inflicting violence scenes,cold blood mur...</td>\n",
       "      <td>135</td>\n",
       "      <td>2022-01-07 00:00:00</td>\n",
       "      <td>India</td>\n",
       "      <td>Westgate</td>\n",
       "      <td>Century pictures</td>\n",
       "      <td>cedric@centurycinemax.net</td>\n",
       "      <td>Cinema</td>\n",
       "      <td>NaN</td>\n",
       "    </tr>\n",
       "    <tr>\n",
       "      <th>2</th>\n",
       "      <td>Rockecty -thr Nambi effect</td>\n",
       "      <td>NaN</td>\n",
       "      <td>Docu-drama</td>\n",
       "      <td>Nambi, a patriotic scientist struggled hard to...</td>\n",
       "      <td>16</td>\n",
       "      <td>V,A,L</td>\n",
       "      <td>The film contains use of violence and alcohol....</td>\n",
       "      <td>157</td>\n",
       "      <td>2022-01-07 00:00:00</td>\n",
       "      <td>India</td>\n",
       "      <td>Sarit Centre</td>\n",
       "      <td>Century pictures</td>\n",
       "      <td>cedric@centurycinemax.net</td>\n",
       "      <td>Cinema</td>\n",
       "      <td>NaN</td>\n",
       "    </tr>\n",
       "    <tr>\n",
       "      <th>3</th>\n",
       "      <td>THOR-Love and Thunder</td>\n",
       "      <td>NaN</td>\n",
       "      <td>Action- Adventure</td>\n",
       "      <td>Thor embarks on a journey unlike anything he ...</td>\n",
       "      <td>16</td>\n",
       "      <td>V,N,S</td>\n",
       "      <td>the film contains violent scenes coupled with ...</td>\n",
       "      <td>120</td>\n",
       "      <td>2022-01-07 00:00:00</td>\n",
       "      <td>USA</td>\n",
       "      <td>Green span</td>\n",
       "      <td>Crimson Multimedia</td>\n",
       "      <td>Collins@crimsonmultimedia.com</td>\n",
       "      <td>Cinema</td>\n",
       "      <td>NaN</td>\n",
       "    </tr>\n",
       "    <tr>\n",
       "      <th>4</th>\n",
       "      <td>Kyalo culture episode 4</td>\n",
       "      <td>NaN</td>\n",
       "      <td>Reality Show</td>\n",
       "      <td>The story of Betty Kyallo continues ...this ep...</td>\n",
       "      <td>GE</td>\n",
       "      <td>-</td>\n",
       "      <td>minimal classifiable elements hence suitable f...</td>\n",
       "      <td>28</td>\n",
       "      <td>2022-04-07 00:00:00</td>\n",
       "      <td>Kenya</td>\n",
       "      <td>office/kfcb</td>\n",
       "      <td>Young Rich Tv</td>\n",
       "      <td>caroline@youngrichtv.com</td>\n",
       "      <td>Showmax</td>\n",
       "      <td>NaN</td>\n",
       "    </tr>\n",
       "    <tr>\n",
       "      <th>5</th>\n",
       "      <td>Roast house Sanaa</td>\n",
       "      <td>NaN</td>\n",
       "      <td>Comedy</td>\n",
       "      <td>Sanaipei Tande is brought into roasting seat w...</td>\n",
       "      <td>16</td>\n",
       "      <td>L,A</td>\n",
       "      <td>the film contains use of vulgar language, use ...</td>\n",
       "      <td>29</td>\n",
       "      <td>2022-04-07 00:00:00</td>\n",
       "      <td>Kenya</td>\n",
       "      <td>office/kfcb</td>\n",
       "      <td>Young Rich Tv</td>\n",
       "      <td>caroline@youngrichtv.com</td>\n",
       "      <td>Showmax</td>\n",
       "      <td>NaN</td>\n",
       "    </tr>\n",
       "  </tbody>\n",
       "</table>\n",
       "</div>"
      ],
      "text/plain": [
       "                    FILM TITLE  CLASS OF FILM              GENRE  \\\n",
       "NO                                                                 \n",
       "1            Rashtra Kavach OM            NaN             Action   \n",
       "2   Rockecty -thr Nambi effect            NaN        Docu-drama    \n",
       "3        THOR-Love and Thunder            NaN  Action- Adventure   \n",
       "4      Kyalo culture episode 4            NaN       Reality Show   \n",
       "5            Roast house Sanaa            NaN             Comedy   \n",
       "\n",
       "                                             SYNOPSIS RATING    CAI  \\\n",
       "NO                                                                    \n",
       "1   Rashtra Karachi OM is an action Indian film de...     16  V,A,S   \n",
       "2   Nambi, a patriotic scientist struggled hard to...     16  V,A,L   \n",
       "3    Thor embarks on a journey unlike anything he ...     16  V,N,S   \n",
       "4   The story of Betty Kyallo continues ...this ep...     GE      -   \n",
       "5   Sanaipei Tande is brought into roasting seat w...     16    L,A   \n",
       "\n",
       "                                        JUSTIFICATION DURATION(MINS)  \\\n",
       "NO                                                                     \n",
       "1   Pain inflicting violence scenes,cold blood mur...            135   \n",
       "2   The film contains use of violence and alcohol....            157   \n",
       "3   the film contains violent scenes coupled with ...            120   \n",
       "4   minimal classifiable elements hence suitable f...             28   \n",
       "5   the film contains use of vulgar language, use ...             29   \n",
       "\n",
       "        DATE CLASSIFIED COUNTRY OF ORIGIN         VENUE              CLIENT  \\\n",
       "NO                                                                            \n",
       "1   2022-01-07 00:00:00             India      Westgate    Century pictures   \n",
       "2   2022-01-07 00:00:00             India  Sarit Centre    Century pictures   \n",
       "3   2022-01-07 00:00:00               USA   Green span   Crimson Multimedia   \n",
       "4   2022-04-07 00:00:00             Kenya   office/kfcb       Young Rich Tv   \n",
       "5   2022-04-07 00:00:00             Kenya   office/kfcb       Young Rich Tv   \n",
       "\n",
       "                          CONTACT PLATFORM WEBSITE  \n",
       "NO                                                  \n",
       "1       cedric@centurycinemax.net   Cinema     NaN  \n",
       "2       cedric@centurycinemax.net   Cinema     NaN  \n",
       "3   Collins@crimsonmultimedia.com   Cinema     NaN  \n",
       "4        caroline@youngrichtv.com  Showmax     NaN  \n",
       "5        caroline@youngrichtv.com  Showmax     NaN  "
      ]
     },
     "execution_count": 27,
     "metadata": {},
     "output_type": "execute_result"
    }
   ],
   "source": [
    "df1= pd.read_excel('data/Films Classified 2022-2023.xlsx', header=2, index_col=0)\n",
    "df1.head()"
   ]
  },
  {
   "cell_type": "markdown",
   "id": "f4a02b23",
   "metadata": {},
   "source": [
    "After loading the dataset, we begin by performing a statistical summary to understand the distribution of the data. We also examine the structure of the DataFrame by checking its shape (number of rows and columns), retrieving general information about the dataset (including data types and missing values), and identifying which columns are numerical and which are non-numerical. This initial exploration helps us assess the overall composition of the dataset and informs our next steps in the analysis."
   ]
  },
  {
   "cell_type": "markdown",
   "id": "a161351f",
   "metadata": {},
   "source": [
    "## Previewing the Data\n",
    "#### Reviewing the data for the financial year 2022-2023"
   ]
  },
  {
   "cell_type": "code",
   "execution_count": 28,
   "id": "d9b41218",
   "metadata": {},
   "outputs": [
    {
     "data": {
      "text/plain": [
       "(786, 15)"
      ]
     },
     "execution_count": 28,
     "metadata": {},
     "output_type": "execute_result"
    }
   ],
   "source": [
    "# shape of the dataset\n",
    "df1.shape"
   ]
  },
  {
   "cell_type": "code",
   "execution_count": 29,
   "id": "3e0f2fdf",
   "metadata": {},
   "outputs": [
    {
     "name": "stdout",
     "output_type": "stream",
     "text": [
      "<class 'pandas.core.frame.DataFrame'>\n",
      "Index: 786 entries, 1 to 786\n",
      "Data columns (total 15 columns):\n",
      " #   Column             Non-Null Count  Dtype  \n",
      "---  ------             --------------  -----  \n",
      " 0   FILM TITLE         786 non-null    object \n",
      " 1   CLASS OF FILM      0 non-null      float64\n",
      " 2   GENRE              784 non-null    object \n",
      " 3   SYNOPSIS           785 non-null    object \n",
      " 4   RATING             783 non-null    object \n",
      " 5   CAI                782 non-null    object \n",
      " 6   JUSTIFICATION      781 non-null    object \n",
      " 7   DURATION(MINS)     783 non-null    object \n",
      " 8   DATE CLASSIFIED    720 non-null    object \n",
      " 9   COUNTRY OF ORIGIN  785 non-null    object \n",
      " 10  VENUE              786 non-null    object \n",
      " 11  CLIENT             774 non-null    object \n",
      " 12  CONTACT            771 non-null    object \n",
      " 13  PLATFORM           770 non-null    object \n",
      " 14  WEBSITE            290 non-null    object \n",
      "dtypes: float64(1), object(14)\n",
      "memory usage: 98.2+ KB\n"
     ]
    }
   ],
   "source": [
    "# Dataset information\n",
    "df1.info()"
   ]
  },
  {
   "cell_type": "markdown",
   "id": "d6e37bd8",
   "metadata": {},
   "source": [
    "\n",
    "Summary of Data Understanding"
   ]
  },
  {
   "cell_type": "markdown",
   "id": "52a3ac4e",
   "metadata": {},
   "source": [
    "* The dataset has  786 rows and 15 columns\n",
    "\n",
    "* Mostly complete: Most columns have 98% data\n",
    "\n",
    "Missing:\n",
    "\n",
    "* CLASS OF FILM - completely empty\n",
    "\n",
    "* WEBSITE - about 63% missing\n",
    "\n",
    "* Minor gaps in DATE CLASSIFIED, CLIENT, CONTACT, PLATFORM\n",
    "\n",
    "* Possible issue: DURATION(MINS) is text , should be numeric."
   ]
  },
  {
   "cell_type": "markdown",
   "id": "3871f9ac",
   "metadata": {},
   "source": [
    "#### Reviewing the data for the financial year 2023-2024"
   ]
  },
  {
   "cell_type": "code",
   "execution_count": 30,
   "id": "c0ba25f2",
   "metadata": {},
   "outputs": [
    {
     "data": {
      "text/html": [
       "<div>\n",
       "<style scoped>\n",
       "    .dataframe tbody tr th:only-of-type {\n",
       "        vertical-align: middle;\n",
       "    }\n",
       "\n",
       "    .dataframe tbody tr th {\n",
       "        vertical-align: top;\n",
       "    }\n",
       "\n",
       "    .dataframe thead th {\n",
       "        text-align: right;\n",
       "    }\n",
       "</style>\n",
       "<table border=\"1\" class=\"dataframe\">\n",
       "  <thead>\n",
       "    <tr style=\"text-align: right;\">\n",
       "      <th></th>\n",
       "      <th>FILM TITLE</th>\n",
       "      <th>CLASS OF FILM</th>\n",
       "      <th>GENRE</th>\n",
       "      <th>SYNOPSIS</th>\n",
       "      <th>RATING</th>\n",
       "      <th>CAI</th>\n",
       "      <th>JUSTIFICATION</th>\n",
       "      <th>DURATION(MINS)</th>\n",
       "      <th>DATE CLASSIFIED</th>\n",
       "      <th>COUNTRY OF ORIGIN</th>\n",
       "      <th>VENUE</th>\n",
       "      <th>CLIENT</th>\n",
       "      <th>CONTACT</th>\n",
       "      <th>PLATFORM</th>\n",
       "      <th>WEBSITE</th>\n",
       "    </tr>\n",
       "    <tr>\n",
       "      <th>NO</th>\n",
       "      <th></th>\n",
       "      <th></th>\n",
       "      <th></th>\n",
       "      <th></th>\n",
       "      <th></th>\n",
       "      <th></th>\n",
       "      <th></th>\n",
       "      <th></th>\n",
       "      <th></th>\n",
       "      <th></th>\n",
       "      <th></th>\n",
       "      <th></th>\n",
       "      <th></th>\n",
       "      <th></th>\n",
       "      <th></th>\n",
       "    </tr>\n",
       "  </thead>\n",
       "  <tbody>\n",
       "    <tr>\n",
       "      <th>1</th>\n",
       "      <td>Kyallo Culture, SN2 EP7</td>\n",
       "      <td>NaN</td>\n",
       "      <td>Reality</td>\n",
       "      <td>Mercy visits a long time friend JB who is the ...</td>\n",
       "      <td>PG</td>\n",
       "      <td>S</td>\n",
       "      <td>Mild sexual reference</td>\n",
       "      <td>27</td>\n",
       "      <td>2023-05-07 00:00:00</td>\n",
       "      <td>Kenya</td>\n",
       "      <td>NaN</td>\n",
       "      <td>NaN</td>\n",
       "      <td>NaN</td>\n",
       "      <td>NaN</td>\n",
       "      <td>NaN</td>\n",
       "    </tr>\n",
       "    <tr>\n",
       "      <th>2</th>\n",
       "      <td>This Love +1 Ep 10</td>\n",
       "      <td>NaN</td>\n",
       "      <td>Reality</td>\n",
       "      <td>Wahu,Nameless,Terence and Milly meet up and ca...</td>\n",
       "      <td>GE</td>\n",
       "      <td>-</td>\n",
       "      <td>Low impact classifiable elements</td>\n",
       "      <td>28</td>\n",
       "      <td>2023-05-07 00:00:00</td>\n",
       "      <td>Kenya</td>\n",
       "      <td>NaN</td>\n",
       "      <td>NaN</td>\n",
       "      <td>NaN</td>\n",
       "      <td>NaN</td>\n",
       "      <td>NaN</td>\n",
       "    </tr>\n",
       "    <tr>\n",
       "      <th>3</th>\n",
       "      <td>Circus</td>\n",
       "      <td>NaN</td>\n",
       "      <td>Comedy</td>\n",
       "      <td>The film is about a man who has come of age an...</td>\n",
       "      <td>PG</td>\n",
       "      <td>V, S, C, O</td>\n",
       "      <td>The has a mild impact on Violence, Crime, Sex,...</td>\n",
       "      <td>160</td>\n",
       "      <td>2023-06-07 00:00:00</td>\n",
       "      <td>India</td>\n",
       "      <td>NaN</td>\n",
       "      <td>NaN</td>\n",
       "      <td>NaN</td>\n",
       "      <td>NaN</td>\n",
       "      <td>NaN</td>\n",
       "    </tr>\n",
       "    <tr>\n",
       "      <th>4</th>\n",
       "      <td>Mission Impossible 7</td>\n",
       "      <td>NaN</td>\n",
       "      <td>Action</td>\n",
       "      <td>IMF agent Ethan Hunt is assigned to retrieve h...</td>\n",
       "      <td>16</td>\n",
       "      <td>V, S, C, O</td>\n",
       "      <td>The has a moderate impact on Violence, Crime, ...</td>\n",
       "      <td>163</td>\n",
       "      <td>2023-10-07 00:00:00</td>\n",
       "      <td>USA</td>\n",
       "      <td>NaN</td>\n",
       "      <td>NaN</td>\n",
       "      <td>NaN</td>\n",
       "      <td>NaN</td>\n",
       "      <td>NaN</td>\n",
       "    </tr>\n",
       "    <tr>\n",
       "      <th>5</th>\n",
       "      <td>Kyallo Culture, SN2 EP8</td>\n",
       "      <td>NaN</td>\n",
       "      <td>Reality</td>\n",
       "      <td>In this episode, the sisters meet in Bao Box f...</td>\n",
       "      <td>PG</td>\n",
       "      <td>S, A</td>\n",
       "      <td>The has a mild impact on Violence, Crime, Sex,...</td>\n",
       "      <td>28</td>\n",
       "      <td>13/07/2023</td>\n",
       "      <td>KENYA</td>\n",
       "      <td>NaN</td>\n",
       "      <td>NaN</td>\n",
       "      <td>NaN</td>\n",
       "      <td>NaN</td>\n",
       "      <td>NaN</td>\n",
       "    </tr>\n",
       "  </tbody>\n",
       "</table>\n",
       "</div>"
      ],
      "text/plain": [
       "                 FILM TITLE  CLASS OF FILM    GENRE  \\\n",
       "NO                                                    \n",
       "1   Kyallo Culture, SN2 EP7            NaN  Reality   \n",
       "2        This Love +1 Ep 10            NaN  Reality   \n",
       "3                    Circus            NaN   Comedy   \n",
       "4      Mission Impossible 7            NaN   Action   \n",
       "5   Kyallo Culture, SN2 EP8            NaN  Reality   \n",
       "\n",
       "                                             SYNOPSIS RATING         CAI  \\\n",
       "NO                                                                         \n",
       "1   Mercy visits a long time friend JB who is the ...     PG           S   \n",
       "2   Wahu,Nameless,Terence and Milly meet up and ca...     GE           -   \n",
       "3   The film is about a man who has come of age an...     PG  V, S, C, O   \n",
       "4   IMF agent Ethan Hunt is assigned to retrieve h...     16  V, S, C, O   \n",
       "5   In this episode, the sisters meet in Bao Box f...     PG        S, A   \n",
       "\n",
       "                                        JUSTIFICATION DURATION(MINS)  \\\n",
       "NO                                                                     \n",
       "1                               Mild sexual reference             27   \n",
       "2                    Low impact classifiable elements             28   \n",
       "3   The has a mild impact on Violence, Crime, Sex,...            160   \n",
       "4   The has a moderate impact on Violence, Crime, ...            163   \n",
       "5   The has a mild impact on Violence, Crime, Sex,...             28   \n",
       "\n",
       "        DATE CLASSIFIED COUNTRY OF ORIGIN VENUE CLIENT CONTACT PLATFORM  \\\n",
       "NO                                                                        \n",
       "1   2023-05-07 00:00:00             Kenya   NaN    NaN     NaN      NaN   \n",
       "2   2023-05-07 00:00:00             Kenya   NaN    NaN     NaN      NaN   \n",
       "3   2023-06-07 00:00:00             India   NaN    NaN     NaN      NaN   \n",
       "4   2023-10-07 00:00:00               USA   NaN    NaN     NaN      NaN   \n",
       "5            13/07/2023             KENYA   NaN    NaN     NaN      NaN   \n",
       "\n",
       "    WEBSITE  \n",
       "NO           \n",
       "1       NaN  \n",
       "2       NaN  \n",
       "3       NaN  \n",
       "4       NaN  \n",
       "5       NaN  "
      ]
     },
     "execution_count": 30,
     "metadata": {},
     "output_type": "execute_result"
    }
   ],
   "source": [
    "# loading 2023-2024 dataset\n",
    "df2= pd.read_excel('Data\\Films Classified 2023-2024.xlsx', header=2,index_col=0)\n",
    "df2.head()"
   ]
  },
  {
   "cell_type": "code",
   "execution_count": 31,
   "id": "092f8f64",
   "metadata": {},
   "outputs": [
    {
     "data": {
      "text/plain": [
       "(1025, 15)"
      ]
     },
     "execution_count": 31,
     "metadata": {},
     "output_type": "execute_result"
    }
   ],
   "source": [
    "# shape of the dataset\n",
    "df2.shape"
   ]
  },
  {
   "cell_type": "code",
   "execution_count": 32,
   "id": "b7c444eb",
   "metadata": {},
   "outputs": [
    {
     "name": "stdout",
     "output_type": "stream",
     "text": [
      "<class 'pandas.core.frame.DataFrame'>\n",
      "Index: 1025 entries, 1 to 1025\n",
      "Data columns (total 15 columns):\n",
      " #   Column             Non-Null Count  Dtype  \n",
      "---  ------             --------------  -----  \n",
      " 0   FILM TITLE         1023 non-null   object \n",
      " 1   CLASS OF FILM      0 non-null      float64\n",
      " 2   GENRE              1009 non-null   object \n",
      " 3   SYNOPSIS           957 non-null    object \n",
      " 4   RATING             1008 non-null   object \n",
      " 5   CAI                706 non-null    object \n",
      " 6   JUSTIFICATION      780 non-null    object \n",
      " 7   DURATION(MINS)     922 non-null    object \n",
      " 8   DATE CLASSIFIED    953 non-null    object \n",
      " 9   COUNTRY OF ORIGIN  1006 non-null   object \n",
      " 10  VENUE              124 non-null    object \n",
      " 11  CLIENT             560 non-null    object \n",
      " 12  CONTACT            405 non-null    object \n",
      " 13  PLATFORM           577 non-null    object \n",
      " 14  WEBSITE            0 non-null      float64\n",
      "dtypes: float64(2), object(13)\n",
      "memory usage: 128.1+ KB\n"
     ]
    }
   ],
   "source": [
    "#dataset information\n",
    "df2.info()"
   ]
  },
  {
   "cell_type": "markdown",
   "id": "e7bc2313",
   "metadata": {},
   "source": [
    "Dataset Summary Information"
   ]
  },
  {
   "cell_type": "markdown",
   "id": "02072af5",
   "metadata": {},
   "source": [
    "* The dataset has 1025 rows and 15 columns\n",
    " \n",
    "* Several columns are well-populated and usable.\n",
    "\n",
    "* Some fields (e.g., VENUE, CLIENT, CONTACT) have substantial gaps.\n",
    "\n",
    "* CLASS OF FILM and WEBSITE have no data - likely candidates for removal.\n",
    "\n",
    "* Dataset needs missing value handling and data type cleaning before analysis."
   ]
  },
  {
   "cell_type": "markdown",
   "id": "5b67a594",
   "metadata": {},
   "source": [
    "#### Reviewing the data for the financial year 2024-2025"
   ]
  },
  {
   "cell_type": "code",
   "execution_count": 33,
   "id": "76e73411",
   "metadata": {},
   "outputs": [
    {
     "data": {
      "text/html": [
       "<div>\n",
       "<style scoped>\n",
       "    .dataframe tbody tr th:only-of-type {\n",
       "        vertical-align: middle;\n",
       "    }\n",
       "\n",
       "    .dataframe tbody tr th {\n",
       "        vertical-align: top;\n",
       "    }\n",
       "\n",
       "    .dataframe thead th {\n",
       "        text-align: right;\n",
       "    }\n",
       "</style>\n",
       "<table border=\"1\" class=\"dataframe\">\n",
       "  <thead>\n",
       "    <tr style=\"text-align: right;\">\n",
       "      <th></th>\n",
       "      <th>FILM TITLE</th>\n",
       "      <th>CLASS OF FILM</th>\n",
       "      <th>GENRE</th>\n",
       "      <th>SYNOPSIS</th>\n",
       "      <th>RATING</th>\n",
       "      <th>CAI</th>\n",
       "      <th>JUSTIFICATION</th>\n",
       "      <th>DURATION(MINS)</th>\n",
       "      <th>DATE CLASSIFIED</th>\n",
       "      <th>COUNTRY OF ORIGIN</th>\n",
       "      <th>VENUE</th>\n",
       "      <th>CLIENT</th>\n",
       "      <th>CONTACT</th>\n",
       "      <th>PLATFORM</th>\n",
       "      <th>WEBSITE</th>\n",
       "      <th>Unnamed: 16</th>\n",
       "    </tr>\n",
       "    <tr>\n",
       "      <th>NO</th>\n",
       "      <th></th>\n",
       "      <th></th>\n",
       "      <th></th>\n",
       "      <th></th>\n",
       "      <th></th>\n",
       "      <th></th>\n",
       "      <th></th>\n",
       "      <th></th>\n",
       "      <th></th>\n",
       "      <th></th>\n",
       "      <th></th>\n",
       "      <th></th>\n",
       "      <th></th>\n",
       "      <th></th>\n",
       "      <th></th>\n",
       "      <th></th>\n",
       "    </tr>\n",
       "  </thead>\n",
       "  <tbody>\n",
       "    <tr>\n",
       "      <th>1</th>\n",
       "      <td>Letters for Good Episode 2-Trailer</td>\n",
       "      <td>NaN</td>\n",
       "      <td>Docu-Drama</td>\n",
       "      <td>Through Safaricom Foundation, Gilbert shares h...</td>\n",
       "      <td>GE</td>\n",
       "      <td>-</td>\n",
       "      <td>No Impact Classifiable Elements</td>\n",
       "      <td>29 Secs</td>\n",
       "      <td>2024-01-07 00:00:00</td>\n",
       "      <td>Kenya</td>\n",
       "      <td>KFCB</td>\n",
       "      <td>Quite Bright Films</td>\n",
       "      <td>NaN</td>\n",
       "      <td>YouTube</td>\n",
       "      <td>uploaded</td>\n",
       "      <td>NaN</td>\n",
       "    </tr>\n",
       "    <tr>\n",
       "      <th>2</th>\n",
       "      <td>Letters for Good Episode 2</td>\n",
       "      <td>NaN</td>\n",
       "      <td>Docu-Drama</td>\n",
       "      <td>Through Safaricom Foundation, Gilbert shares h...</td>\n",
       "      <td>GE</td>\n",
       "      <td>-</td>\n",
       "      <td>No Impact Classifiable Elements</td>\n",
       "      <td>10</td>\n",
       "      <td>2024-01-07 00:00:00</td>\n",
       "      <td>Kenya</td>\n",
       "      <td>KFCB</td>\n",
       "      <td>Quite Bright Films</td>\n",
       "      <td>NaN</td>\n",
       "      <td>YouTube</td>\n",
       "      <td>uploaded</td>\n",
       "      <td>NaN</td>\n",
       "    </tr>\n",
       "    <tr>\n",
       "      <th>3</th>\n",
       "      <td>Letters for Good Episode 3</td>\n",
       "      <td>NaN</td>\n",
       "      <td>Docu-Drama</td>\n",
       "      <td>Gideon Wafula a businessman narrates how Safar...</td>\n",
       "      <td>GE</td>\n",
       "      <td>-</td>\n",
       "      <td>No Impact Classifiable Elements</td>\n",
       "      <td>10</td>\n",
       "      <td>2024-01-07 00:00:00</td>\n",
       "      <td>Kenya</td>\n",
       "      <td>KFCB</td>\n",
       "      <td>Quite Bright Films</td>\n",
       "      <td>NaN</td>\n",
       "      <td>YouTube</td>\n",
       "      <td>uploaded</td>\n",
       "      <td>NaN</td>\n",
       "    </tr>\n",
       "    <tr>\n",
       "      <th>4</th>\n",
       "      <td>Sisi Wote ni Mabingwa</td>\n",
       "      <td>NaN</td>\n",
       "      <td>Commercial</td>\n",
       "      <td>A Commercial by Safaricom on its appreciation ...</td>\n",
       "      <td>GE</td>\n",
       "      <td>-</td>\n",
       "      <td>No Impact Classifiable Elements</td>\n",
       "      <td>1 Secs</td>\n",
       "      <td>2024-01-07 00:00:00</td>\n",
       "      <td>Kenya</td>\n",
       "      <td>KFCB</td>\n",
       "      <td>Quite Bright Films</td>\n",
       "      <td>NaN</td>\n",
       "      <td>YouTube</td>\n",
       "      <td>uploaded</td>\n",
       "      <td>NaN</td>\n",
       "    </tr>\n",
       "    <tr>\n",
       "      <th>5</th>\n",
       "      <td>Afrisense Shea Butter</td>\n",
       "      <td>NaN</td>\n",
       "      <td>Commercial</td>\n",
       "      <td>A commercial about Afrisense Shea Butter a bat...</td>\n",
       "      <td>GE</td>\n",
       "      <td>-</td>\n",
       "      <td>No Impact Classifiable Elements</td>\n",
       "      <td>30 Secs</td>\n",
       "      <td>2024-01-07 00:00:00</td>\n",
       "      <td>Kenya</td>\n",
       "      <td>KFCB</td>\n",
       "      <td>Quite Bright Films</td>\n",
       "      <td>NaN</td>\n",
       "      <td>YouTube</td>\n",
       "      <td>uploaded</td>\n",
       "      <td>NaN</td>\n",
       "    </tr>\n",
       "  </tbody>\n",
       "</table>\n",
       "</div>"
      ],
      "text/plain": [
       "                            FILM TITLE CLASS OF FILM       GENRE  \\\n",
       "NO                                                                 \n",
       "1   Letters for Good Episode 2-Trailer           NaN  Docu-Drama   \n",
       "2           Letters for Good Episode 2           NaN  Docu-Drama   \n",
       "3           Letters for Good Episode 3           NaN  Docu-Drama   \n",
       "4                Sisi Wote ni Mabingwa           NaN  Commercial   \n",
       "5                Afrisense Shea Butter           NaN  Commercial   \n",
       "\n",
       "                                             SYNOPSIS RATING CAI  \\\n",
       "NO                                                                 \n",
       "1   Through Safaricom Foundation, Gilbert shares h...     GE   -   \n",
       "2   Through Safaricom Foundation, Gilbert shares h...     GE   -   \n",
       "3   Gideon Wafula a businessman narrates how Safar...     GE   -   \n",
       "4   A Commercial by Safaricom on its appreciation ...     GE   -   \n",
       "5   A commercial about Afrisense Shea Butter a bat...     GE   -   \n",
       "\n",
       "                       JUSTIFICATION DURATION(MINS)      DATE CLASSIFIED  \\\n",
       "NO                                                                         \n",
       "1   No Impact Classifiable Elements         29 Secs  2024-01-07 00:00:00   \n",
       "2   No Impact Classifiable Elements              10  2024-01-07 00:00:00   \n",
       "3   No Impact Classifiable Elements              10  2024-01-07 00:00:00   \n",
       "4   No Impact Classifiable Elements          1 Secs  2024-01-07 00:00:00   \n",
       "5   No Impact Classifiable Elements         30 Secs  2024-01-07 00:00:00   \n",
       "\n",
       "   COUNTRY OF ORIGIN VENUE              CLIENT CONTACT PLATFORM   WEBSITE  \\\n",
       "NO                                                                          \n",
       "1              Kenya  KFCB  Quite Bright Films     NaN  YouTube  uploaded   \n",
       "2              Kenya  KFCB  Quite Bright Films     NaN  YouTube  uploaded   \n",
       "3              Kenya  KFCB  Quite Bright Films     NaN  YouTube  uploaded   \n",
       "4              Kenya  KFCB  Quite Bright Films     NaN  YouTube  uploaded   \n",
       "5              Kenya  KFCB  Quite Bright Films     NaN  YouTube  uploaded   \n",
       "\n",
       "   Unnamed: 16  \n",
       "NO              \n",
       "1          NaN  \n",
       "2          NaN  \n",
       "3          NaN  \n",
       "4          NaN  \n",
       "5          NaN  "
      ]
     },
     "execution_count": 33,
     "metadata": {},
     "output_type": "execute_result"
    }
   ],
   "source": [
    "df3= pd.read_excel('Data\\Films Classified 2024-2025.xlsx', index_col=0)\n",
    "df3.head()"
   ]
  },
  {
   "cell_type": "code",
   "execution_count": 34,
   "id": "59611df8",
   "metadata": {},
   "outputs": [
    {
     "data": {
      "text/plain": [
       "(779, 16)"
      ]
     },
     "execution_count": 34,
     "metadata": {},
     "output_type": "execute_result"
    }
   ],
   "source": [
    "#shape of the dataset\n",
    "df3.shape"
   ]
  },
  {
   "cell_type": "code",
   "execution_count": 35,
   "id": "ed5df3c4",
   "metadata": {},
   "outputs": [
    {
     "name": "stdout",
     "output_type": "stream",
     "text": [
      "<class 'pandas.core.frame.DataFrame'>\n",
      "Index: 779 entries, 1 to 779\n",
      "Data columns (total 16 columns):\n",
      " #   Column             Non-Null Count  Dtype \n",
      "---  ------             --------------  ----- \n",
      " 0   FILM TITLE         778 non-null    object\n",
      " 1   CLASS OF FILM      621 non-null    object\n",
      " 2   GENRE              777 non-null    object\n",
      " 3   SYNOPSIS           777 non-null    object\n",
      " 4   RATING             778 non-null    object\n",
      " 5   CAI                736 non-null    object\n",
      " 6   JUSTIFICATION      751 non-null    object\n",
      " 7   DURATION(MINS)     774 non-null    object\n",
      " 8   DATE CLASSIFIED    777 non-null    object\n",
      " 9   COUNTRY OF ORIGIN  778 non-null    object\n",
      " 10  VENUE              773 non-null    object\n",
      " 11  CLIENT             719 non-null    object\n",
      " 12  CONTACT            41 non-null     object\n",
      " 13  PLATFORM           742 non-null    object\n",
      " 14  WEBSITE            487 non-null    object\n",
      " 15  Unnamed: 16        1 non-null      object\n",
      "dtypes: object(16)\n",
      "memory usage: 103.5+ KB\n"
     ]
    }
   ],
   "source": [
    "# Dataset information\n",
    "df3.info()"
   ]
  },
  {
   "cell_type": "markdown",
   "id": "44907e7b",
   "metadata": {},
   "source": [
    "Dataset Summary Information"
   ]
  },
  {
   "cell_type": "markdown",
   "id": "a18a6b4c",
   "metadata": {},
   "source": [
    "* The dataset has 779 rows and 16 columns\n",
    "\n",
    "* Most core fields are well-populated.\n",
    "\n",
    "* CONTACT is mostly empty and may not be useful.\n",
    "\n",
    "* Unnamed: 16 should probably be dropped.\n",
    "\n",
    "* Basic cleaning: handle missing values, drop irrelevant columns, fix data types."
   ]
  },
  {
   "cell_type": "markdown",
   "id": "e19ccafc",
   "metadata": {},
   "source": [
    "### Merging Data for the three(3) Financial Years\n",
    "We will combine the datasets from all three financial years into one consolidated DataFrame to enable consistent analysis across the full period.\n"
   ]
  },
  {
   "cell_type": "code",
   "execution_count": 36,
   "id": "5059313f",
   "metadata": {},
   "outputs": [],
   "source": [
    "# Merge all\n",
    "merged_df = pd.concat([df1, df2, df3], ignore_index=True)"
   ]
  },
  {
   "cell_type": "markdown",
   "id": "4188146a",
   "metadata": {},
   "source": [
    "### Previewing the Merged Dataset\n",
    "We are going to display the first few rows to confirm that the datasets were combined correctly and that columns are properly aligned and consistent."
   ]
  },
  {
   "cell_type": "code",
   "execution_count": 37,
   "id": "62d9d768",
   "metadata": {},
   "outputs": [
    {
     "data": {
      "text/html": [
       "<div>\n",
       "<style scoped>\n",
       "    .dataframe tbody tr th:only-of-type {\n",
       "        vertical-align: middle;\n",
       "    }\n",
       "\n",
       "    .dataframe tbody tr th {\n",
       "        vertical-align: top;\n",
       "    }\n",
       "\n",
       "    .dataframe thead th {\n",
       "        text-align: right;\n",
       "    }\n",
       "</style>\n",
       "<table border=\"1\" class=\"dataframe\">\n",
       "  <thead>\n",
       "    <tr style=\"text-align: right;\">\n",
       "      <th></th>\n",
       "      <th>FILM TITLE</th>\n",
       "      <th>CLASS OF FILM</th>\n",
       "      <th>GENRE</th>\n",
       "      <th>SYNOPSIS</th>\n",
       "      <th>RATING</th>\n",
       "      <th>CAI</th>\n",
       "      <th>JUSTIFICATION</th>\n",
       "      <th>DURATION(MINS)</th>\n",
       "      <th>DATE CLASSIFIED</th>\n",
       "      <th>COUNTRY OF ORIGIN</th>\n",
       "      <th>VENUE</th>\n",
       "      <th>CLIENT</th>\n",
       "      <th>CONTACT</th>\n",
       "      <th>PLATFORM</th>\n",
       "      <th>WEBSITE</th>\n",
       "      <th>Unnamed: 16</th>\n",
       "    </tr>\n",
       "  </thead>\n",
       "  <tbody>\n",
       "    <tr>\n",
       "      <th>0</th>\n",
       "      <td>Rashtra Kavach OM</td>\n",
       "      <td>NaN</td>\n",
       "      <td>Action</td>\n",
       "      <td>Rashtra Karachi OM is an action Indian film de...</td>\n",
       "      <td>16</td>\n",
       "      <td>V,A,S</td>\n",
       "      <td>Pain inflicting violence scenes,cold blood mur...</td>\n",
       "      <td>135</td>\n",
       "      <td>2022-01-07 00:00:00</td>\n",
       "      <td>India</td>\n",
       "      <td>Westgate</td>\n",
       "      <td>Century pictures</td>\n",
       "      <td>cedric@centurycinemax.net</td>\n",
       "      <td>Cinema</td>\n",
       "      <td>NaN</td>\n",
       "      <td>NaN</td>\n",
       "    </tr>\n",
       "    <tr>\n",
       "      <th>1</th>\n",
       "      <td>Rockecty -thr Nambi effect</td>\n",
       "      <td>NaN</td>\n",
       "      <td>Docu-drama</td>\n",
       "      <td>Nambi, a patriotic scientist struggled hard to...</td>\n",
       "      <td>16</td>\n",
       "      <td>V,A,L</td>\n",
       "      <td>The film contains use of violence and alcohol....</td>\n",
       "      <td>157</td>\n",
       "      <td>2022-01-07 00:00:00</td>\n",
       "      <td>India</td>\n",
       "      <td>Sarit Centre</td>\n",
       "      <td>Century pictures</td>\n",
       "      <td>cedric@centurycinemax.net</td>\n",
       "      <td>Cinema</td>\n",
       "      <td>NaN</td>\n",
       "      <td>NaN</td>\n",
       "    </tr>\n",
       "    <tr>\n",
       "      <th>2</th>\n",
       "      <td>THOR-Love and Thunder</td>\n",
       "      <td>NaN</td>\n",
       "      <td>Action- Adventure</td>\n",
       "      <td>Thor embarks on a journey unlike anything he ...</td>\n",
       "      <td>16</td>\n",
       "      <td>V,N,S</td>\n",
       "      <td>the film contains violent scenes coupled with ...</td>\n",
       "      <td>120</td>\n",
       "      <td>2022-01-07 00:00:00</td>\n",
       "      <td>USA</td>\n",
       "      <td>Green span</td>\n",
       "      <td>Crimson Multimedia</td>\n",
       "      <td>Collins@crimsonmultimedia.com</td>\n",
       "      <td>Cinema</td>\n",
       "      <td>NaN</td>\n",
       "      <td>NaN</td>\n",
       "    </tr>\n",
       "    <tr>\n",
       "      <th>3</th>\n",
       "      <td>Kyalo culture episode 4</td>\n",
       "      <td>NaN</td>\n",
       "      <td>Reality Show</td>\n",
       "      <td>The story of Betty Kyallo continues ...this ep...</td>\n",
       "      <td>GE</td>\n",
       "      <td>-</td>\n",
       "      <td>minimal classifiable elements hence suitable f...</td>\n",
       "      <td>28</td>\n",
       "      <td>2022-04-07 00:00:00</td>\n",
       "      <td>Kenya</td>\n",
       "      <td>office/kfcb</td>\n",
       "      <td>Young Rich Tv</td>\n",
       "      <td>caroline@youngrichtv.com</td>\n",
       "      <td>Showmax</td>\n",
       "      <td>NaN</td>\n",
       "      <td>NaN</td>\n",
       "    </tr>\n",
       "    <tr>\n",
       "      <th>4</th>\n",
       "      <td>Roast house Sanaa</td>\n",
       "      <td>NaN</td>\n",
       "      <td>Comedy</td>\n",
       "      <td>Sanaipei Tande is brought into roasting seat w...</td>\n",
       "      <td>16</td>\n",
       "      <td>L,A</td>\n",
       "      <td>the film contains use of vulgar language, use ...</td>\n",
       "      <td>29</td>\n",
       "      <td>2022-04-07 00:00:00</td>\n",
       "      <td>Kenya</td>\n",
       "      <td>office/kfcb</td>\n",
       "      <td>Young Rich Tv</td>\n",
       "      <td>caroline@youngrichtv.com</td>\n",
       "      <td>Showmax</td>\n",
       "      <td>NaN</td>\n",
       "      <td>NaN</td>\n",
       "    </tr>\n",
       "  </tbody>\n",
       "</table>\n",
       "</div>"
      ],
      "text/plain": [
       "                   FILM TITLE CLASS OF FILM              GENRE  \\\n",
       "0           Rashtra Kavach OM           NaN             Action   \n",
       "1  Rockecty -thr Nambi effect           NaN        Docu-drama    \n",
       "2       THOR-Love and Thunder           NaN  Action- Adventure   \n",
       "3     Kyalo culture episode 4           NaN       Reality Show   \n",
       "4           Roast house Sanaa           NaN             Comedy   \n",
       "\n",
       "                                            SYNOPSIS RATING    CAI  \\\n",
       "0  Rashtra Karachi OM is an action Indian film de...     16  V,A,S   \n",
       "1  Nambi, a patriotic scientist struggled hard to...     16  V,A,L   \n",
       "2   Thor embarks on a journey unlike anything he ...     16  V,N,S   \n",
       "3  The story of Betty Kyallo continues ...this ep...     GE      -   \n",
       "4  Sanaipei Tande is brought into roasting seat w...     16    L,A   \n",
       "\n",
       "                                       JUSTIFICATION DURATION(MINS)  \\\n",
       "0  Pain inflicting violence scenes,cold blood mur...            135   \n",
       "1  The film contains use of violence and alcohol....            157   \n",
       "2  the film contains violent scenes coupled with ...            120   \n",
       "3  minimal classifiable elements hence suitable f...             28   \n",
       "4  the film contains use of vulgar language, use ...             29   \n",
       "\n",
       "       DATE CLASSIFIED COUNTRY OF ORIGIN         VENUE              CLIENT  \\\n",
       "0  2022-01-07 00:00:00             India      Westgate    Century pictures   \n",
       "1  2022-01-07 00:00:00             India  Sarit Centre    Century pictures   \n",
       "2  2022-01-07 00:00:00               USA   Green span   Crimson Multimedia   \n",
       "3  2022-04-07 00:00:00             Kenya   office/kfcb       Young Rich Tv   \n",
       "4  2022-04-07 00:00:00             Kenya   office/kfcb       Young Rich Tv   \n",
       "\n",
       "                         CONTACT PLATFORM WEBSITE Unnamed: 16  \n",
       "0      cedric@centurycinemax.net   Cinema     NaN         NaN  \n",
       "1      cedric@centurycinemax.net   Cinema     NaN         NaN  \n",
       "2  Collins@crimsonmultimedia.com   Cinema     NaN         NaN  \n",
       "3       caroline@youngrichtv.com  Showmax     NaN         NaN  \n",
       "4       caroline@youngrichtv.com  Showmax     NaN         NaN  "
      ]
     },
     "execution_count": 37,
     "metadata": {},
     "output_type": "execute_result"
    }
   ],
   "source": [
    "merged_df.head()"
   ]
  },
  {
   "cell_type": "code",
   "execution_count": 38,
   "id": "58c9615f",
   "metadata": {},
   "outputs": [
    {
     "data": {
      "text/plain": [
       "(2590, 16)"
      ]
     },
     "execution_count": 38,
     "metadata": {},
     "output_type": "execute_result"
    }
   ],
   "source": [
    "# Determining the number of columns and rows\n",
    "merged_df.shape"
   ]
  },
  {
   "cell_type": "code",
   "execution_count": 39,
   "id": "3ea849fc",
   "metadata": {},
   "outputs": [
    {
     "name": "stdout",
     "output_type": "stream",
     "text": [
      "<class 'pandas.core.frame.DataFrame'>\n",
      "RangeIndex: 2590 entries, 0 to 2589\n",
      "Data columns (total 16 columns):\n",
      " #   Column             Non-Null Count  Dtype \n",
      "---  ------             --------------  ----- \n",
      " 0   FILM TITLE         2587 non-null   object\n",
      " 1   CLASS OF FILM      621 non-null    object\n",
      " 2   GENRE              2570 non-null   object\n",
      " 3   SYNOPSIS           2519 non-null   object\n",
      " 4   RATING             2569 non-null   object\n",
      " 5   CAI                2224 non-null   object\n",
      " 6   JUSTIFICATION      2312 non-null   object\n",
      " 7   DURATION(MINS)     2479 non-null   object\n",
      " 8   DATE CLASSIFIED    2450 non-null   object\n",
      " 9   COUNTRY OF ORIGIN  2569 non-null   object\n",
      " 10  VENUE              1683 non-null   object\n",
      " 11  CLIENT             2053 non-null   object\n",
      " 12  CONTACT            1217 non-null   object\n",
      " 13  PLATFORM           2089 non-null   object\n",
      " 14  WEBSITE            777 non-null    object\n",
      " 15  Unnamed: 16        1 non-null      object\n",
      "dtypes: object(16)\n",
      "memory usage: 323.9+ KB\n"
     ]
    }
   ],
   "source": [
    "# Merged dataset information\n",
    "merged_df.info()"
   ]
  },
  {
   "cell_type": "markdown",
   "id": "5288f6c0",
   "metadata": {},
   "source": [
    "#### Merged Dataset Overview\n",
    "* After merging the three datasets we recorded a total of 2590 rows and 16 columns \n",
    "\n",
    "* Mostly complete: FILM TITLE, GENRE, RATING, COUNTRY OF ORIGIN about 99%\n",
    "\n",
    "* Moderate gaps: SYNOPSIS, DURATION(MINS), DATE CLASSIFIED, CAI, JUSTIFICATION, CLIENT, PLATFORM, VENUE\n",
    "\n",
    "* Significant missing: CONTACT about 47%, WEBSITE about 30%, CLASS OF FILM about 24%, Unnamed: 16 (almost empty)\n",
    "\n",
    "* Note: DURATION(MINS) needs conversion to numeric; drop Unnamed: 16\n",
    "* Well-populated columns:FILM TITLE: 2,587 almost 100%,\n",
    "\n",
    "The merge was successful, combining all records, but some columns now have varying levels of missing data. Next step: handle missing values, drop irrelevant columns like Unnamed: 16, and fix data types"
   ]
  },
  {
   "cell_type": "markdown",
   "id": "f1689658",
   "metadata": {},
   "source": [
    "## Data Cleaning \n",
    "In this next step , we will be  handling missing values, correcting data types, removing irrelevant columns, and ensuring the dataset is accurate, consistent, and ready for analysis."
   ]
  },
  {
   "cell_type": "markdown",
   "id": "9989b99e",
   "metadata": {},
   "source": [
    "Renaming of Columns"
   ]
  },
  {
   "cell_type": "code",
   "execution_count": 40,
   "id": "3e33b534",
   "metadata": {},
   "outputs": [
    {
     "data": {
      "text/plain": [
       "Index(['FILM TITLE', 'CLASS OF FILM', 'GENRE', 'SYNOPSIS', 'RATING', 'CAI',\n",
       "       'JUSTIFICATION', 'DURATION(MINS)', 'DATE CLASSIFIED',\n",
       "       'COUNTRY OF ORIGIN', 'VENUE', 'CLIENT', 'CONTACT', 'PLATFORM',\n",
       "       'WEBSITE', 'Unnamed: 16'],\n",
       "      dtype='object')"
      ]
     },
     "execution_count": 40,
     "metadata": {},
     "output_type": "execute_result"
    }
   ],
   "source": [
    "merged_df.columns"
   ]
  },
  {
   "cell_type": "code",
   "execution_count": 41,
   "id": "a10b4ad6",
   "metadata": {},
   "outputs": [],
   "source": [
    "new_column_names = {\n",
    "    'Unnamed: 0': 'old_index', \n",
    "    'NO': 'no',\n",
    "    'FILM TITLE': 'film_title',\n",
    "    'CLASS OF FILM': 'film_class',\n",
    "    'NAME OF FILM': 'film_name',\n",
    "    'GENRE': 'genre',\n",
    "    'DATE CLASSIFIED': 'date_classified',\n",
    "    'SYNOPSIS': 'synopsis',\n",
    "    'CLIENT': 'client',\n",
    "    'COUNTRY OF ORIGIN': 'country_of_origin',\n",
    "    'RATING': 'rating',\n",
    "    'CAI': 'consumer_advisory_index',\n",
    "    'JUSTIFICATION': 'justification',\n",
    "    'DURATION(MINS)':  'duration_mins',\n",
    "    'VENUE': 'venue',\n",
    "    'CONTACT': 'contact',\n",
    "    'PLATFORM': 'platform',\n",
    "    'WEBSITE': 'website'\n",
    "}\n"
   ]
  },
  {
   "cell_type": "code",
   "execution_count": 42,
   "id": "d0fc5b57",
   "metadata": {},
   "outputs": [
    {
     "data": {
      "text/html": [
       "<div>\n",
       "<style scoped>\n",
       "    .dataframe tbody tr th:only-of-type {\n",
       "        vertical-align: middle;\n",
       "    }\n",
       "\n",
       "    .dataframe tbody tr th {\n",
       "        vertical-align: top;\n",
       "    }\n",
       "\n",
       "    .dataframe thead th {\n",
       "        text-align: right;\n",
       "    }\n",
       "</style>\n",
       "<table border=\"1\" class=\"dataframe\">\n",
       "  <thead>\n",
       "    <tr style=\"text-align: right;\">\n",
       "      <th></th>\n",
       "      <th>film_title</th>\n",
       "      <th>film_class</th>\n",
       "      <th>genre</th>\n",
       "      <th>synopsis</th>\n",
       "      <th>rating</th>\n",
       "      <th>consumer_advisory_index</th>\n",
       "      <th>justification</th>\n",
       "      <th>duration_mins</th>\n",
       "      <th>date_classified</th>\n",
       "      <th>country_of_origin</th>\n",
       "      <th>venue</th>\n",
       "      <th>client</th>\n",
       "      <th>contact</th>\n",
       "      <th>platform</th>\n",
       "      <th>website</th>\n",
       "      <th>Unnamed: 16</th>\n",
       "    </tr>\n",
       "  </thead>\n",
       "  <tbody>\n",
       "    <tr>\n",
       "      <th>0</th>\n",
       "      <td>Rashtra Kavach OM</td>\n",
       "      <td>NaN</td>\n",
       "      <td>Action</td>\n",
       "      <td>Rashtra Karachi OM is an action Indian film de...</td>\n",
       "      <td>16</td>\n",
       "      <td>V,A,S</td>\n",
       "      <td>Pain inflicting violence scenes,cold blood mur...</td>\n",
       "      <td>135</td>\n",
       "      <td>2022-01-07 00:00:00</td>\n",
       "      <td>India</td>\n",
       "      <td>Westgate</td>\n",
       "      <td>Century pictures</td>\n",
       "      <td>cedric@centurycinemax.net</td>\n",
       "      <td>Cinema</td>\n",
       "      <td>NaN</td>\n",
       "      <td>NaN</td>\n",
       "    </tr>\n",
       "    <tr>\n",
       "      <th>1</th>\n",
       "      <td>Rockecty -thr Nambi effect</td>\n",
       "      <td>NaN</td>\n",
       "      <td>Docu-drama</td>\n",
       "      <td>Nambi, a patriotic scientist struggled hard to...</td>\n",
       "      <td>16</td>\n",
       "      <td>V,A,L</td>\n",
       "      <td>The film contains use of violence and alcohol....</td>\n",
       "      <td>157</td>\n",
       "      <td>2022-01-07 00:00:00</td>\n",
       "      <td>India</td>\n",
       "      <td>Sarit Centre</td>\n",
       "      <td>Century pictures</td>\n",
       "      <td>cedric@centurycinemax.net</td>\n",
       "      <td>Cinema</td>\n",
       "      <td>NaN</td>\n",
       "      <td>NaN</td>\n",
       "    </tr>\n",
       "    <tr>\n",
       "      <th>2</th>\n",
       "      <td>THOR-Love and Thunder</td>\n",
       "      <td>NaN</td>\n",
       "      <td>Action- Adventure</td>\n",
       "      <td>Thor embarks on a journey unlike anything he ...</td>\n",
       "      <td>16</td>\n",
       "      <td>V,N,S</td>\n",
       "      <td>the film contains violent scenes coupled with ...</td>\n",
       "      <td>120</td>\n",
       "      <td>2022-01-07 00:00:00</td>\n",
       "      <td>USA</td>\n",
       "      <td>Green span</td>\n",
       "      <td>Crimson Multimedia</td>\n",
       "      <td>Collins@crimsonmultimedia.com</td>\n",
       "      <td>Cinema</td>\n",
       "      <td>NaN</td>\n",
       "      <td>NaN</td>\n",
       "    </tr>\n",
       "    <tr>\n",
       "      <th>3</th>\n",
       "      <td>Kyalo culture episode 4</td>\n",
       "      <td>NaN</td>\n",
       "      <td>Reality Show</td>\n",
       "      <td>The story of Betty Kyallo continues ...this ep...</td>\n",
       "      <td>GE</td>\n",
       "      <td>-</td>\n",
       "      <td>minimal classifiable elements hence suitable f...</td>\n",
       "      <td>28</td>\n",
       "      <td>2022-04-07 00:00:00</td>\n",
       "      <td>Kenya</td>\n",
       "      <td>office/kfcb</td>\n",
       "      <td>Young Rich Tv</td>\n",
       "      <td>caroline@youngrichtv.com</td>\n",
       "      <td>Showmax</td>\n",
       "      <td>NaN</td>\n",
       "      <td>NaN</td>\n",
       "    </tr>\n",
       "    <tr>\n",
       "      <th>4</th>\n",
       "      <td>Roast house Sanaa</td>\n",
       "      <td>NaN</td>\n",
       "      <td>Comedy</td>\n",
       "      <td>Sanaipei Tande is brought into roasting seat w...</td>\n",
       "      <td>16</td>\n",
       "      <td>L,A</td>\n",
       "      <td>the film contains use of vulgar language, use ...</td>\n",
       "      <td>29</td>\n",
       "      <td>2022-04-07 00:00:00</td>\n",
       "      <td>Kenya</td>\n",
       "      <td>office/kfcb</td>\n",
       "      <td>Young Rich Tv</td>\n",
       "      <td>caroline@youngrichtv.com</td>\n",
       "      <td>Showmax</td>\n",
       "      <td>NaN</td>\n",
       "      <td>NaN</td>\n",
       "    </tr>\n",
       "  </tbody>\n",
       "</table>\n",
       "</div>"
      ],
      "text/plain": [
       "                   film_title film_class              genre  \\\n",
       "0           Rashtra Kavach OM        NaN             Action   \n",
       "1  Rockecty -thr Nambi effect        NaN        Docu-drama    \n",
       "2       THOR-Love and Thunder        NaN  Action- Adventure   \n",
       "3     Kyalo culture episode 4        NaN       Reality Show   \n",
       "4           Roast house Sanaa        NaN             Comedy   \n",
       "\n",
       "                                            synopsis rating  \\\n",
       "0  Rashtra Karachi OM is an action Indian film de...     16   \n",
       "1  Nambi, a patriotic scientist struggled hard to...     16   \n",
       "2   Thor embarks on a journey unlike anything he ...     16   \n",
       "3  The story of Betty Kyallo continues ...this ep...     GE   \n",
       "4  Sanaipei Tande is brought into roasting seat w...     16   \n",
       "\n",
       "  consumer_advisory_index                                      justification  \\\n",
       "0                   V,A,S  Pain inflicting violence scenes,cold blood mur...   \n",
       "1                   V,A,L  The film contains use of violence and alcohol....   \n",
       "2                   V,N,S  the film contains violent scenes coupled with ...   \n",
       "3                       -  minimal classifiable elements hence suitable f...   \n",
       "4                     L,A  the film contains use of vulgar language, use ...   \n",
       "\n",
       "  duration_mins      date_classified country_of_origin         venue  \\\n",
       "0           135  2022-01-07 00:00:00             India      Westgate   \n",
       "1           157  2022-01-07 00:00:00             India  Sarit Centre   \n",
       "2           120  2022-01-07 00:00:00               USA   Green span    \n",
       "3            28  2022-04-07 00:00:00             Kenya   office/kfcb   \n",
       "4            29  2022-04-07 00:00:00             Kenya   office/kfcb   \n",
       "\n",
       "               client                        contact platform website  \\\n",
       "0    Century pictures      cedric@centurycinemax.net   Cinema     NaN   \n",
       "1    Century pictures      cedric@centurycinemax.net   Cinema     NaN   \n",
       "2  Crimson Multimedia  Collins@crimsonmultimedia.com   Cinema     NaN   \n",
       "3       Young Rich Tv       caroline@youngrichtv.com  Showmax     NaN   \n",
       "4       Young Rich Tv       caroline@youngrichtv.com  Showmax     NaN   \n",
       "\n",
       "  Unnamed: 16  \n",
       "0         NaN  \n",
       "1         NaN  \n",
       "2         NaN  \n",
       "3         NaN  \n",
       "4         NaN  "
      ]
     },
     "execution_count": 42,
     "metadata": {},
     "output_type": "execute_result"
    }
   ],
   "source": [
    "merged_df.rename(columns=new_column_names, inplace=True)\n",
    "merged_df.head()"
   ]
  },
  {
   "cell_type": "code",
   "execution_count": 46,
   "id": "f9f9345a",
   "metadata": {},
   "outputs": [
    {
     "name": "stdout",
     "output_type": "stream",
     "text": [
      "<class 'pandas.core.frame.DataFrame'>\n",
      "RangeIndex: 2590 entries, 0 to 2589\n",
      "Data columns (total 16 columns):\n",
      " #   Column                   Non-Null Count  Dtype \n",
      "---  ------                   --------------  ----- \n",
      " 0   film_title               2587 non-null   object\n",
      " 1   film_class               621 non-null    object\n",
      " 2   genre                    2570 non-null   object\n",
      " 3   synopsis                 2519 non-null   object\n",
      " 4   rating                   2569 non-null   object\n",
      " 5   consumer_advisory_index  2224 non-null   object\n",
      " 6   justification            2312 non-null   object\n",
      " 7   duration_mins            2479 non-null   object\n",
      " 8   date_classified          2450 non-null   object\n",
      " 9   country_of_origin        2569 non-null   object\n",
      " 10  venue                    1683 non-null   object\n",
      " 11  client                   2053 non-null   object\n",
      " 12  contact                  1217 non-null   object\n",
      " 13  platform                 2089 non-null   object\n",
      " 14  website                  777 non-null    object\n",
      " 15  Unnamed: 16              1 non-null      object\n",
      "dtypes: object(16)\n",
      "memory usage: 323.9+ KB\n"
     ]
    }
   ],
   "source": [
    "#Decribe the data\n",
    "merged_df.info()"
   ]
  },
  {
   "cell_type": "markdown",
   "id": "5abd54ce",
   "metadata": {},
   "source": [
    "**Justification of the info**\n",
    "* We are going to drop Unnamed column,film_class, venue, contact, website columns since they are irrelevant to our analysis\n",
    "\n"
   ]
  },
  {
   "cell_type": "code",
   "execution_count": 50,
   "id": "d6a8ae33",
   "metadata": {},
   "outputs": [
    {
     "data": {
      "text/html": [
       "<div>\n",
       "<style scoped>\n",
       "    .dataframe tbody tr th:only-of-type {\n",
       "        vertical-align: middle;\n",
       "    }\n",
       "\n",
       "    .dataframe tbody tr th {\n",
       "        vertical-align: top;\n",
       "    }\n",
       "\n",
       "    .dataframe thead th {\n",
       "        text-align: right;\n",
       "    }\n",
       "</style>\n",
       "<table border=\"1\" class=\"dataframe\">\n",
       "  <thead>\n",
       "    <tr style=\"text-align: right;\">\n",
       "      <th></th>\n",
       "      <th>film_title</th>\n",
       "      <th>genre</th>\n",
       "      <th>synopsis</th>\n",
       "      <th>rating</th>\n",
       "      <th>consumer_advisory_index</th>\n",
       "      <th>justification</th>\n",
       "      <th>duration_mins</th>\n",
       "      <th>date_classified</th>\n",
       "      <th>country_of_origin</th>\n",
       "      <th>client</th>\n",
       "      <th>platform</th>\n",
       "    </tr>\n",
       "  </thead>\n",
       "  <tbody>\n",
       "    <tr>\n",
       "      <th>0</th>\n",
       "      <td>Rashtra Kavach OM</td>\n",
       "      <td>Action</td>\n",
       "      <td>Rashtra Karachi OM is an action Indian film de...</td>\n",
       "      <td>16</td>\n",
       "      <td>V,A,S</td>\n",
       "      <td>Pain inflicting violence scenes,cold blood mur...</td>\n",
       "      <td>135</td>\n",
       "      <td>2022-01-07 00:00:00</td>\n",
       "      <td>India</td>\n",
       "      <td>Century pictures</td>\n",
       "      <td>Cinema</td>\n",
       "    </tr>\n",
       "    <tr>\n",
       "      <th>1</th>\n",
       "      <td>Rockecty -thr Nambi effect</td>\n",
       "      <td>Docu-drama</td>\n",
       "      <td>Nambi, a patriotic scientist struggled hard to...</td>\n",
       "      <td>16</td>\n",
       "      <td>V,A,L</td>\n",
       "      <td>The film contains use of violence and alcohol....</td>\n",
       "      <td>157</td>\n",
       "      <td>2022-01-07 00:00:00</td>\n",
       "      <td>India</td>\n",
       "      <td>Century pictures</td>\n",
       "      <td>Cinema</td>\n",
       "    </tr>\n",
       "    <tr>\n",
       "      <th>2</th>\n",
       "      <td>THOR-Love and Thunder</td>\n",
       "      <td>Action- Adventure</td>\n",
       "      <td>Thor embarks on a journey unlike anything he ...</td>\n",
       "      <td>16</td>\n",
       "      <td>V,N,S</td>\n",
       "      <td>the film contains violent scenes coupled with ...</td>\n",
       "      <td>120</td>\n",
       "      <td>2022-01-07 00:00:00</td>\n",
       "      <td>USA</td>\n",
       "      <td>Crimson Multimedia</td>\n",
       "      <td>Cinema</td>\n",
       "    </tr>\n",
       "    <tr>\n",
       "      <th>3</th>\n",
       "      <td>Kyalo culture episode 4</td>\n",
       "      <td>Reality Show</td>\n",
       "      <td>The story of Betty Kyallo continues ...this ep...</td>\n",
       "      <td>GE</td>\n",
       "      <td>-</td>\n",
       "      <td>minimal classifiable elements hence suitable f...</td>\n",
       "      <td>28</td>\n",
       "      <td>2022-04-07 00:00:00</td>\n",
       "      <td>Kenya</td>\n",
       "      <td>Young Rich Tv</td>\n",
       "      <td>Showmax</td>\n",
       "    </tr>\n",
       "    <tr>\n",
       "      <th>4</th>\n",
       "      <td>Roast house Sanaa</td>\n",
       "      <td>Comedy</td>\n",
       "      <td>Sanaipei Tande is brought into roasting seat w...</td>\n",
       "      <td>16</td>\n",
       "      <td>L,A</td>\n",
       "      <td>the film contains use of vulgar language, use ...</td>\n",
       "      <td>29</td>\n",
       "      <td>2022-04-07 00:00:00</td>\n",
       "      <td>Kenya</td>\n",
       "      <td>Young Rich Tv</td>\n",
       "      <td>Showmax</td>\n",
       "    </tr>\n",
       "  </tbody>\n",
       "</table>\n",
       "</div>"
      ],
      "text/plain": [
       "                   film_title              genre  \\\n",
       "0           Rashtra Kavach OM             Action   \n",
       "1  Rockecty -thr Nambi effect        Docu-drama    \n",
       "2       THOR-Love and Thunder  Action- Adventure   \n",
       "3     Kyalo culture episode 4       Reality Show   \n",
       "4           Roast house Sanaa             Comedy   \n",
       "\n",
       "                                            synopsis rating  \\\n",
       "0  Rashtra Karachi OM is an action Indian film de...     16   \n",
       "1  Nambi, a patriotic scientist struggled hard to...     16   \n",
       "2   Thor embarks on a journey unlike anything he ...     16   \n",
       "3  The story of Betty Kyallo continues ...this ep...     GE   \n",
       "4  Sanaipei Tande is brought into roasting seat w...     16   \n",
       "\n",
       "  consumer_advisory_index                                      justification  \\\n",
       "0                   V,A,S  Pain inflicting violence scenes,cold blood mur...   \n",
       "1                   V,A,L  The film contains use of violence and alcohol....   \n",
       "2                   V,N,S  the film contains violent scenes coupled with ...   \n",
       "3                       -  minimal classifiable elements hence suitable f...   \n",
       "4                     L,A  the film contains use of vulgar language, use ...   \n",
       "\n",
       "  duration_mins      date_classified country_of_origin              client  \\\n",
       "0           135  2022-01-07 00:00:00             India    Century pictures   \n",
       "1           157  2022-01-07 00:00:00             India    Century pictures   \n",
       "2           120  2022-01-07 00:00:00               USA  Crimson Multimedia   \n",
       "3            28  2022-04-07 00:00:00             Kenya       Young Rich Tv   \n",
       "4            29  2022-04-07 00:00:00             Kenya       Young Rich Tv   \n",
       "\n",
       "  platform  \n",
       "0   Cinema  \n",
       "1   Cinema  \n",
       "2   Cinema  \n",
       "3  Showmax  \n",
       "4  Showmax  "
      ]
     },
     "execution_count": 50,
     "metadata": {},
     "output_type": "execute_result"
    }
   ],
   "source": [
    "columns_to_drop = ['Unnamed: 16','film_class','venue','contact','website']\n",
    "\n",
    "#drop the columns\n",
    "merged_df= merged_df.drop(columns=columns_to_drop, errors='ignore').copy()\n",
    "merged_df.head()"
   ]
  },
  {
   "cell_type": "markdown",
   "id": "2c85924c",
   "metadata": {},
   "source": [
    "* We dropped the irrelevant columns and made a copy that will be used for further analysis.Next step we are going to do datatype conversion and handling date inconsistencies."
   ]
  },
  {
   "cell_type": "markdown",
   "id": "389eb63c",
   "metadata": {},
   "source": [
    "Date Conversion"
   ]
  },
  {
   "cell_type": "code",
   "execution_count": 53,
   "id": "c0d59136",
   "metadata": {},
   "outputs": [
    {
     "data": {
      "text/html": [
       "<div>\n",
       "<style scoped>\n",
       "    .dataframe tbody tr th:only-of-type {\n",
       "        vertical-align: middle;\n",
       "    }\n",
       "\n",
       "    .dataframe tbody tr th {\n",
       "        vertical-align: top;\n",
       "    }\n",
       "\n",
       "    .dataframe thead th {\n",
       "        text-align: right;\n",
       "    }\n",
       "</style>\n",
       "<table border=\"1\" class=\"dataframe\">\n",
       "  <thead>\n",
       "    <tr style=\"text-align: right;\">\n",
       "      <th></th>\n",
       "      <th>film_title</th>\n",
       "      <th>genre</th>\n",
       "      <th>synopsis</th>\n",
       "      <th>rating</th>\n",
       "      <th>consumer_advisory_index</th>\n",
       "      <th>justification</th>\n",
       "      <th>duration_mins</th>\n",
       "      <th>date_classified</th>\n",
       "      <th>country_of_origin</th>\n",
       "      <th>client</th>\n",
       "      <th>platform</th>\n",
       "    </tr>\n",
       "  </thead>\n",
       "  <tbody>\n",
       "    <tr>\n",
       "      <th>0</th>\n",
       "      <td>Rashtra Kavach OM</td>\n",
       "      <td>Action</td>\n",
       "      <td>Rashtra Karachi OM is an action Indian film de...</td>\n",
       "      <td>16</td>\n",
       "      <td>V,A,S</td>\n",
       "      <td>Pain inflicting violence scenes,cold blood mur...</td>\n",
       "      <td>135</td>\n",
       "      <td>2022-01-07</td>\n",
       "      <td>India</td>\n",
       "      <td>Century pictures</td>\n",
       "      <td>Cinema</td>\n",
       "    </tr>\n",
       "    <tr>\n",
       "      <th>1</th>\n",
       "      <td>Rockecty -thr Nambi effect</td>\n",
       "      <td>Docu-drama</td>\n",
       "      <td>Nambi, a patriotic scientist struggled hard to...</td>\n",
       "      <td>16</td>\n",
       "      <td>V,A,L</td>\n",
       "      <td>The film contains use of violence and alcohol....</td>\n",
       "      <td>157</td>\n",
       "      <td>2022-01-07</td>\n",
       "      <td>India</td>\n",
       "      <td>Century pictures</td>\n",
       "      <td>Cinema</td>\n",
       "    </tr>\n",
       "    <tr>\n",
       "      <th>2</th>\n",
       "      <td>THOR-Love and Thunder</td>\n",
       "      <td>Action- Adventure</td>\n",
       "      <td>Thor embarks on a journey unlike anything he ...</td>\n",
       "      <td>16</td>\n",
       "      <td>V,N,S</td>\n",
       "      <td>the film contains violent scenes coupled with ...</td>\n",
       "      <td>120</td>\n",
       "      <td>2022-01-07</td>\n",
       "      <td>USA</td>\n",
       "      <td>Crimson Multimedia</td>\n",
       "      <td>Cinema</td>\n",
       "    </tr>\n",
       "    <tr>\n",
       "      <th>3</th>\n",
       "      <td>Kyalo culture episode 4</td>\n",
       "      <td>Reality Show</td>\n",
       "      <td>The story of Betty Kyallo continues ...this ep...</td>\n",
       "      <td>GE</td>\n",
       "      <td>-</td>\n",
       "      <td>minimal classifiable elements hence suitable f...</td>\n",
       "      <td>28</td>\n",
       "      <td>2022-04-07</td>\n",
       "      <td>Kenya</td>\n",
       "      <td>Young Rich Tv</td>\n",
       "      <td>Showmax</td>\n",
       "    </tr>\n",
       "    <tr>\n",
       "      <th>4</th>\n",
       "      <td>Roast house Sanaa</td>\n",
       "      <td>Comedy</td>\n",
       "      <td>Sanaipei Tande is brought into roasting seat w...</td>\n",
       "      <td>16</td>\n",
       "      <td>L,A</td>\n",
       "      <td>the film contains use of vulgar language, use ...</td>\n",
       "      <td>29</td>\n",
       "      <td>2022-04-07</td>\n",
       "      <td>Kenya</td>\n",
       "      <td>Young Rich Tv</td>\n",
       "      <td>Showmax</td>\n",
       "    </tr>\n",
       "  </tbody>\n",
       "</table>\n",
       "</div>"
      ],
      "text/plain": [
       "                   film_title              genre  \\\n",
       "0           Rashtra Kavach OM             Action   \n",
       "1  Rockecty -thr Nambi effect        Docu-drama    \n",
       "2       THOR-Love and Thunder  Action- Adventure   \n",
       "3     Kyalo culture episode 4       Reality Show   \n",
       "4           Roast house Sanaa             Comedy   \n",
       "\n",
       "                                            synopsis rating  \\\n",
       "0  Rashtra Karachi OM is an action Indian film de...     16   \n",
       "1  Nambi, a patriotic scientist struggled hard to...     16   \n",
       "2   Thor embarks on a journey unlike anything he ...     16   \n",
       "3  The story of Betty Kyallo continues ...this ep...     GE   \n",
       "4  Sanaipei Tande is brought into roasting seat w...     16   \n",
       "\n",
       "  consumer_advisory_index                                      justification  \\\n",
       "0                   V,A,S  Pain inflicting violence scenes,cold blood mur...   \n",
       "1                   V,A,L  The film contains use of violence and alcohol....   \n",
       "2                   V,N,S  the film contains violent scenes coupled with ...   \n",
       "3                       -  minimal classifiable elements hence suitable f...   \n",
       "4                     L,A  the film contains use of vulgar language, use ...   \n",
       "\n",
       "  duration_mins date_classified country_of_origin              client platform  \n",
       "0           135      2022-01-07             India    Century pictures   Cinema  \n",
       "1           157      2022-01-07             India    Century pictures   Cinema  \n",
       "2           120      2022-01-07               USA  Crimson Multimedia   Cinema  \n",
       "3            28      2022-04-07             Kenya       Young Rich Tv  Showmax  \n",
       "4            29      2022-04-07             Kenya       Young Rich Tv  Showmax  "
      ]
     },
     "execution_count": 53,
     "metadata": {},
     "output_type": "execute_result"
    }
   ],
   "source": [
    "merged_df['date_classified'] = pd.to_datetime(merged_df['date_classified'], errors='coerce', dayfirst=True)\n",
    "merged_df.head()"
   ]
  },
  {
   "cell_type": "markdown",
   "id": "79942fe0",
   "metadata": {},
   "source": [
    " we will convert our rating column to categorical type"
   ]
  },
  {
   "cell_type": "code",
   "execution_count": null,
   "id": "a62f5a5a",
   "metadata": {},
   "outputs": [
    {
     "data": {
      "text/plain": [
       "array([16, 'GE', '18+', '16+', 'PG', 18, 'P.G', nan, 16.2, 'R', 'GE ',\n",
       "       'PG ',\n",
       "       'After a five brother musical band breaks up and each going their way. Four are forced to re-unite in order to save their other brother who has been kidnapped and caged in a diamond bottle by a superstar sibling duo, so as to use his singing powers for their success.',\n",
       "       'RESTRICTED', 'Restricted', 'Ge', '25sec', 120, 'G/E', 'RATING',\n",
       "       'gGE'], dtype=object)"
      ]
     },
     "execution_count": 58,
     "metadata": {},
     "output_type": "execute_result"
    }
   ],
   "source": [
    "\n",
    "merged_df['rating'].unique()"
   ]
  },
  {
   "cell_type": "code",
   "execution_count": 60,
   "id": "178ab011",
   "metadata": {},
   "outputs": [
    {
     "name": "stdout",
     "output_type": "stream",
     "text": [
      "<class 'pandas.core.frame.DataFrame'>\n",
      "RangeIndex: 2590 entries, 0 to 2589\n",
      "Data columns (total 11 columns):\n",
      " #   Column                   Non-Null Count  Dtype         \n",
      "---  ------                   --------------  -----         \n",
      " 0   film_title               2587 non-null   object        \n",
      " 1   genre                    2570 non-null   object        \n",
      " 2   synopsis                 2519 non-null   object        \n",
      " 3   rating                   2569 non-null   category      \n",
      " 4   consumer_advisory_index  2224 non-null   object        \n",
      " 5   justification            2312 non-null   object        \n",
      " 6   duration_mins            2479 non-null   object        \n",
      " 7   date_classified          2433 non-null   datetime64[ns]\n",
      " 8   country_of_origin        2569 non-null   object        \n",
      " 9   client                   2053 non-null   object        \n",
      " 10  platform                 2089 non-null   object        \n",
      "dtypes: category(1), datetime64[ns](1), object(9)\n",
      "memory usage: 205.7+ KB\n"
     ]
    }
   ],
   "source": [
    "merged_df['rating']= merged_df['rating'].astype('category')\n",
    "merged_df.info()"
   ]
  },
  {
   "cell_type": "markdown",
   "id": "08ffdcbd",
   "metadata": {},
   "source": [
    "Handling of Missing Values"
   ]
  },
  {
   "cell_type": "code",
   "execution_count": 65,
   "id": "a3c1dbcf",
   "metadata": {},
   "outputs": [
    {
     "data": {
      "text/plain": [
       "film_title                   3\n",
       "genre                       20\n",
       "synopsis                    71\n",
       "rating                      21\n",
       "consumer_advisory_index    366\n",
       "justification              278\n",
       "duration_mins              111\n",
       "date_classified            157\n",
       "country_of_origin           21\n",
       "client                     537\n",
       "platform                   501\n",
       "dtype: int64"
      ]
     },
     "execution_count": 65,
     "metadata": {},
     "output_type": "execute_result"
    }
   ],
   "source": [
    "merged_df.isna().sum()"
   ]
  },
  {
   "cell_type": "markdown",
   "id": "7598f2b9",
   "metadata": {},
   "source": [
    "For the film_title column we are going to drop the missing values"
   ]
  },
  {
   "cell_type": "markdown",
   "id": "29734b50",
   "metadata": {},
   "source": [
    "## Explanatory Data Analysis"
   ]
  },
  {
   "cell_type": "markdown",
   "id": "65425463",
   "metadata": {},
   "source": [
    "#### Missing Values Analysis"
   ]
  },
  {
   "cell_type": "code",
   "execution_count": 80,
   "id": "89a8611b",
   "metadata": {},
   "outputs": [
    {
     "data": {
      "text/plain": [
       "client                     20.733591\n",
       "platform                   19.343629\n",
       "consumer_advisory_index    14.131274\n",
       "justification              10.733591\n",
       "date_classified             6.061776\n",
       "duration_mins               4.285714\n",
       "synopsis                    2.741313\n",
       "rating                      0.810811\n",
       "country_of_origin           0.810811\n",
       "genre                       0.772201\n",
       "film_title                  0.115830\n",
       "dtype: float64"
      ]
     },
     "execution_count": 80,
     "metadata": {},
     "output_type": "execute_result"
    }
   ],
   "source": [
    "missing_percentage = merged_df.isna().sum() / len(merged_df) * 100\n",
    "#sorting in descending order\n",
    "missing_percentage=missing_percentage.sort_values(ascending=False)\n",
    "missing_percentage"
   ]
  },
  {
   "cell_type": "code",
   "execution_count": 81,
   "id": "93756323",
   "metadata": {},
   "outputs": [
    {
     "name": "stderr",
     "output_type": "stream",
     "text": [
      "C:\\Users\\Administrator\\AppData\\Local\\Temp\\ipykernel_8056\\3659014105.py:3: FutureWarning: \n",
      "\n",
      "Passing `palette` without assigning `hue` is deprecated and will be removed in v0.14.0. Assign the `x` variable to `hue` and set `legend=False` for the same effect.\n",
      "\n",
      "  sns.barplot(x=missing_percentage.index, y = missing_percentage.values,palette='Reds_d')\n"
     ]
    },
    {
     "data": {
      "image/png": "[encoded data removed]",
      "text/plain": [
       "<Figure size 1200x600 with 1 Axes>"
      ]
     },
     "metadata": {},
     "output_type": "display_data"
    }
   ],
   "source": [
    "#plotting a distribution table\n",
    "plt.figure(figsize=(12,6))\n",
    "sns.barplot(x=missing_percentage.index, y = missing_percentage.values,palette='Reds_d')\n",
    "plt.title('Percentage of Missing Values')\n",
    "plt.xticks(rotation=45)\n",
    "plt.tight_layout()\n",
    "plt.show()"
   ]
  },
  {
   "cell_type": "code",
   "execution_count": null,
   "id": "b13aca0a",
   "metadata": {},
   "outputs": [],
   "source": []
  },
  {
   "cell_type": "code",
   "execution_count": 44,
   "id": "65f58873",
   "metadata": {},
   "outputs": [
    {
     "name": "stdout",
     "output_type": "stream",
     "text": [
      "                         None - Null Count  Percentage\n",
      "Unnamed: 16                              1        0.04\n",
      "film_class                             621       23.98\n",
      "website                                777       30.00\n",
      "contact                               1217       46.99\n",
      "venue                                 1683       64.98\n",
      "client                                2053       79.27\n",
      "platform                              2089       80.66\n",
      "consumer_advisory_index               2224       85.87\n",
      "justification                         2312       89.27\n",
      "date_classified                       2450       94.59\n",
      "duration_mins                         2479       95.71\n",
      "synopsis                              2519       97.26\n",
      "rating                                2569       99.19\n",
      "country_of_origin                     2569       99.19\n",
      "genre                                 2570       99.23\n",
      "film_title                            2587       99.88\n"
     ]
    }
   ],
   "source": [
    "# Example: get counts\n",
    "counts = merged_df.count()\n",
    "total_rows = len(merged_df)\n",
    "\n",
    "# Calculate percentage\n",
    "percentages = (counts / total_rows) * 100\n",
    "\n",
    "# Combine in a DataFrame\n",
    "result = pd.DataFrame({\n",
    "    'None - Null Count': counts,\n",
    "    'Percentage': percentages.round(2)\n",
    "})\n",
    "\n",
    "# Sort ascending by percentage\n",
    "result_sorted = result.sort_values(by='Percentage', ascending=True)\n",
    "\n",
    "print(result_sorted)\n"
   ]
  },
  {
   "cell_type": "code",
   "execution_count": 45,
   "id": "eae86a5b",
   "metadata": {},
   "outputs": [
    {
     "ename": "KeyError",
     "evalue": "'Class of Film'",
     "output_type": "error",
     "traceback": [
      "\u001b[31m---------------------------------------------------------------------------\u001b[39m",
      "\u001b[31mKeyError\u001b[39m                                  Traceback (most recent call last)",
      "\u001b[36mFile \u001b[39m\u001b[32mc:\\Users\\Administrator\\.conda\\envs\\DataScience_env\\Lib\\site-packages\\pandas\\core\\indexes\\base.py:3812\u001b[39m, in \u001b[36mIndex.get_loc\u001b[39m\u001b[34m(self, key)\u001b[39m\n\u001b[32m   3811\u001b[39m \u001b[38;5;28;01mtry\u001b[39;00m:\n\u001b[32m-> \u001b[39m\u001b[32m3812\u001b[39m     \u001b[38;5;28;01mreturn\u001b[39;00m \u001b[38;5;28mself\u001b[39m._engine.get_loc(casted_key)\n\u001b[32m   3813\u001b[39m \u001b[38;5;28;01mexcept\u001b[39;00m \u001b[38;5;167;01mKeyError\u001b[39;00m \u001b[38;5;28;01mas\u001b[39;00m err:\n",
      "\u001b[36mFile \u001b[39m\u001b[32mpandas/_libs/index.pyx:167\u001b[39m, in \u001b[36mpandas._libs.index.IndexEngine.get_loc\u001b[39m\u001b[34m()\u001b[39m\n",
      "\u001b[36mFile \u001b[39m\u001b[32mpandas/_libs/index.pyx:196\u001b[39m, in \u001b[36mpandas._libs.index.IndexEngine.get_loc\u001b[39m\u001b[34m()\u001b[39m\n",
      "\u001b[36mFile \u001b[39m\u001b[32mpandas/_libs/hashtable_class_helper.pxi:7088\u001b[39m, in \u001b[36mpandas._libs.hashtable.PyObjectHashTable.get_item\u001b[39m\u001b[34m()\u001b[39m\n",
      "\u001b[36mFile \u001b[39m\u001b[32mpandas/_libs/hashtable_class_helper.pxi:7096\u001b[39m, in \u001b[36mpandas._libs.hashtable.PyObjectHashTable.get_item\u001b[39m\u001b[34m()\u001b[39m\n",
      "\u001b[31mKeyError\u001b[39m: 'Class of Film'",
      "\nThe above exception was the direct cause of the following exception:\n",
      "\u001b[31mKeyError\u001b[39m                                  Traceback (most recent call last)",
      "\u001b[36mCell\u001b[39m\u001b[36m \u001b[39m\u001b[32mIn[45]\u001b[39m\u001b[32m, line 1\u001b[39m\n\u001b[32m----> \u001b[39m\u001b[32m1\u001b[39m merged_df[\u001b[33m'\u001b[39m\u001b[33mClass of Film\u001b[39m\u001b[33m'\u001b[39m].value_counts()\n",
      "\u001b[36mFile \u001b[39m\u001b[32mc:\\Users\\Administrator\\.conda\\envs\\DataScience_env\\Lib\\site-packages\\pandas\\core\\frame.py:4107\u001b[39m, in \u001b[36mDataFrame.__getitem__\u001b[39m\u001b[34m(self, key)\u001b[39m\n\u001b[32m   4105\u001b[39m \u001b[38;5;28;01mif\u001b[39;00m \u001b[38;5;28mself\u001b[39m.columns.nlevels > \u001b[32m1\u001b[39m:\n\u001b[32m   4106\u001b[39m     \u001b[38;5;28;01mreturn\u001b[39;00m \u001b[38;5;28mself\u001b[39m._getitem_multilevel(key)\n\u001b[32m-> \u001b[39m\u001b[32m4107\u001b[39m indexer = \u001b[38;5;28mself\u001b[39m.columns.get_loc(key)\n\u001b[32m   4108\u001b[39m \u001b[38;5;28;01mif\u001b[39;00m is_integer(indexer):\n\u001b[32m   4109\u001b[39m     indexer = [indexer]\n",
      "\u001b[36mFile \u001b[39m\u001b[32mc:\\Users\\Administrator\\.conda\\envs\\DataScience_env\\Lib\\site-packages\\pandas\\core\\indexes\\base.py:3819\u001b[39m, in \u001b[36mIndex.get_loc\u001b[39m\u001b[34m(self, key)\u001b[39m\n\u001b[32m   3814\u001b[39m     \u001b[38;5;28;01mif\u001b[39;00m \u001b[38;5;28misinstance\u001b[39m(casted_key, \u001b[38;5;28mslice\u001b[39m) \u001b[38;5;129;01mor\u001b[39;00m (\n\u001b[32m   3815\u001b[39m         \u001b[38;5;28misinstance\u001b[39m(casted_key, abc.Iterable)\n\u001b[32m   3816\u001b[39m         \u001b[38;5;129;01mand\u001b[39;00m \u001b[38;5;28many\u001b[39m(\u001b[38;5;28misinstance\u001b[39m(x, \u001b[38;5;28mslice\u001b[39m) \u001b[38;5;28;01mfor\u001b[39;00m x \u001b[38;5;129;01min\u001b[39;00m casted_key)\n\u001b[32m   3817\u001b[39m     ):\n\u001b[32m   3818\u001b[39m         \u001b[38;5;28;01mraise\u001b[39;00m InvalidIndexError(key)\n\u001b[32m-> \u001b[39m\u001b[32m3819\u001b[39m     \u001b[38;5;28;01mraise\u001b[39;00m \u001b[38;5;167;01mKeyError\u001b[39;00m(key) \u001b[38;5;28;01mfrom\u001b[39;00m\u001b[38;5;250m \u001b[39m\u001b[34;01merr\u001b[39;00m\n\u001b[32m   3820\u001b[39m \u001b[38;5;28;01mexcept\u001b[39;00m \u001b[38;5;167;01mTypeError\u001b[39;00m:\n\u001b[32m   3821\u001b[39m     \u001b[38;5;66;03m# If we have a listlike key, _check_indexing_error will raise\u001b[39;00m\n\u001b[32m   3822\u001b[39m     \u001b[38;5;66;03m#  InvalidIndexError. Otherwise we fall through and re-raise\u001b[39;00m\n\u001b[32m   3823\u001b[39m     \u001b[38;5;66;03m#  the TypeError.\u001b[39;00m\n\u001b[32m   3824\u001b[39m     \u001b[38;5;28mself\u001b[39m._check_indexing_error(key)\n",
      "\u001b[31mKeyError\u001b[39m: 'Class of Film'"
     ]
    }
   ],
   "source": [
    "merged_df['Class of Film'].value_counts()"
   ]
  },
  {
   "cell_type": "code",
   "execution_count": null,
   "id": "cb4776d8",
   "metadata": {},
   "outputs": [],
   "source": [
    "# Convert all values to lowercase and strip leading/trailing whitespace:\n",
    "\n",
    "merged_df['Class of Film'] = merged_df['Class of Film'].str.lower().str.strip()\n",
    "\n"
   ]
  },
  {
   "cell_type": "code",
   "execution_count": null,
   "id": "8957b4b6",
   "metadata": {},
   "outputs": [
    {
     "data": {
      "text/plain": [
       "Class of Film\n",
       "series           504\n",
       "movie             58\n",
       "film              42\n",
       "trailer            8\n",
       "commercial         5\n",
       "short film         1\n",
       "trailer 1          1\n",
       "trailer 2          1\n",
       "class of film      1\n",
       "Name: count, dtype: int64"
      ]
     },
     "execution_count": 161,
     "metadata": {},
     "output_type": "execute_result"
    }
   ],
   "source": [
    "merged_df['Class of Film'].value_counts()"
   ]
  },
  {
   "cell_type": "code",
   "execution_count": null,
   "id": "281655fb",
   "metadata": {},
   "outputs": [],
   "source": [
    "# Create a mapping for standardization\n",
    "class_map = {\n",
    "    'film': 'film',\n",
    "    'movie': 'film',\n",
    "    'short film': 'short film',\n",
    "    'series': 'series',\n",
    "    'trailer': 'trailer',\n",
    "    'commercial': 'advertisement',\n",
    "    'trailer 1': 'trailer',\n",
    "    'trailer 2': 'trailer',\n",
    "    'class of film': None  # likely a junk value\n",
    "}\n"
   ]
  },
  {
   "cell_type": "code",
   "execution_count": null,
   "id": "001b14f6",
   "metadata": {},
   "outputs": [],
   "source": [
    "#Apply the mapping (handle unmapped values too)\n",
    "merged_df['Class of Film'] = merged_df['Class of Film'].map(class_map)"
   ]
  },
  {
   "cell_type": "code",
   "execution_count": null,
   "id": "3aeb4b4a",
   "metadata": {},
   "outputs": [],
   "source": [
    "merged_df =merged_df[merged_df['Class of Film'].notnull()]"
   ]
  },
  {
   "cell_type": "code",
   "execution_count": null,
   "id": "f52d1839",
   "metadata": {},
   "outputs": [
    {
     "data": {
      "text/plain": [
       "Class of Film\n",
       "series           504\n",
       "film             100\n",
       "trailer           10\n",
       "advertisement      5\n",
       "short film         1\n",
       "Name: count, dtype: int64"
      ]
     },
     "execution_count": 165,
     "metadata": {},
     "output_type": "execute_result"
    }
   ],
   "source": [
    "merged_df['Class of Film'].value_counts()"
   ]
  },
  {
   "cell_type": "code",
   "execution_count": null,
   "id": "5947f2d1",
   "metadata": {},
   "outputs": [
    {
     "data": {
      "text/plain": [
       "np.int64(0)"
      ]
     },
     "execution_count": 169,
     "metadata": {},
     "output_type": "execute_result"
    }
   ],
   "source": [
    "merged_df['Class of Film'].isnull().sum()"
   ]
  },
  {
   "cell_type": "code",
   "execution_count": null,
   "id": "ee437074",
   "metadata": {},
   "outputs": [
    {
     "data": {
      "text/plain": [
       "No                     0\n",
       "Film Title             0\n",
       "Class of Film          0\n",
       "Genre                  0\n",
       "Synopsis               1\n",
       "Rating                 0\n",
       "CAI                   11\n",
       "Justification          9\n",
       "Duration (mins)        3\n",
       "Date Classified        1\n",
       "Country of Origin      0\n",
       "Venue                  4\n",
       "Client                24\n",
       "Contact              609\n",
       "Platform              31\n",
       "Website              285\n",
       "Year Range             0\n",
       "dtype: int64"
      ]
     },
     "execution_count": 170,
     "metadata": {},
     "output_type": "execute_result"
    }
   ],
   "source": [
    "merged_df.isnull().sum()"
   ]
  },
  {
   "cell_type": "code",
   "execution_count": null,
   "id": "606ed985",
   "metadata": {},
   "outputs": [
    {
     "ename": "SyntaxError",
     "evalue": "invalid syntax (2900954353.py, line 2)",
     "output_type": "error",
     "traceback": [
      "  \u001b[36mCell\u001b[39m\u001b[36m \u001b[39m\u001b[32mIn[166]\u001b[39m\u001b[32m, line 2\u001b[39m\n\u001b[31m    \u001b[39m\u001b[31mclass = 'Advertisement'\u001b[39m\n          ^\n\u001b[31mSyntaxError\u001b[39m\u001b[31m:\u001b[39m invalid syntax\n"
     ]
    }
   ],
   "source": [
    "\n",
    "if duration < 5:\n",
    "    class = 'Advertisement'\n",
    "elif duration < 20:\n",
    "    class = 'Short Film'\n",
    "elif duration < 60:\n",
    "    class = 'TV Episode'\n",
    "else:\n",
    "    class = 'Feature Film'"
   ]
  }
 ],
 "metadata": {
  "kernelspec": {
   "display_name": "Python (DataScience_env)",
   "language": "python",
   "name": "datascience_env"
  },
  "language_info": {
   "codemirror_mode": {
    "name": "ipython",
    "version": 3
   },
   "file_extension": ".py",
   "mimetype": "text/x-python",
   "name": "python",
   "nbconvert_exporter": "python",
   "pygments_lexer": "ipython3",
   "version": "3.11.13"
  }
 },
 "nbformat": 4,
 "nbformat_minor": 5
}
